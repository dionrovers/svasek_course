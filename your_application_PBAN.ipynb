{
 "cells": [
  {
   "cell_type": "markdown",
   "metadata": {},
   "source": [
    "<figure>\n",
    "   <IMG SRC=\"https://mamba-python.nl/images/logo_basis.png\" WIDTH=125 ALIGN=\"right\">\n",
    "   \n",
    "</figure>\n",
    "\n",
    "# Your application\n",
    "\n",
    "<br>"
   ]
  },
  {
   "cell_type": "markdown",
   "metadata": {},
   "source": [
    "A part of this Python course is working on your own application. This document gives more details on how to start with this\n",
    "\n",
    "The idea is to work on your application in this notebook and sent the result at the end of each course day to info@mamba-python.nl. Please include all the files you use in your mail (if they are less than 10mb)."
   ]
  },
  {
   "cell_type": "markdown",
   "metadata": {},
   "source": [
    "## Your application<a class=\"anchor\" id=\"cursusdag1\"></a>"
   ]
  },
  {
   "cell_type": "markdown",
   "metadata": {},
   "source": [
    "### 1. Goal, input and desired output<a class=\"anchor\" id=\"eigentoepassing\"></a>"
   ]
  },
  {
   "cell_type": "markdown",
   "metadata": {},
   "source": [
    "Try to think of an application that is useful for your job. For inspiration you can use some examples in our presentation or have a look at:\n",
    "    - https://docs.python-guide.org/#scenario-guide-for-python-applications\n",
    "    - https://automatetheboringstuff.com/\n",
    "    - https://github.com/jupyter/jupyter/wiki/A-gallery-of-interesting-Jupyter-Notebooks\n",
    "\n",
    "Please indicate in the text cell below what the goal, in and output of your application will be. Also indicate if the application is confidential, if so we will not share the information with others during the course."
   ]
  },
  {
   "cell_type": "markdown",
   "metadata": {},
   "source": [
    "Doel: Ik wil graag een script maken om een mat-file in te lezen met kustlijnposities. Deze kustlijnposities wil ik graag over historische satellite images plotten om de historische kustlijnontwikkeling te tracken.\n",
    "\n",
    "input: mat-file vanuit ShorelineS (voorbeelden zijn helaas best grote bestanden), API call for Sentinel Hub\n",
    "\n",
    "gewenste output: historische plaatjes van kustlijnpositie vanuit sentinel met de voorspelde kustlijn vanuit shorelineS op de momenten waar goede sentinel data beschikbaar is. \n",
    "\n",
    "additional: package coastsat implementeren!? CoastSat is een package waarin de kustlijnpositie vanuit satellite images wordt bepaald. \n",
    "\n"
   ]
  },
  {
   "cell_type": "markdown",
   "metadata": {},
   "source": [
    "### 2. Steps <a class=\"anchor\" id=\"stappenplan\"></a>"
   ]
  },
  {
   "cell_type": "markdown",
   "metadata": {},
   "source": [
    "An important part of programming is to divide your code into seperate steps. Please specify the steps you want to follow to build your application in the text cell below. "
   ]
  },
  {
   "cell_type": "markdown",
   "metadata": {},
   "source": [
    "Step 1: inladen van mat-files (> 10 mb van projecten die ik in mijn hoofd heb)\n",
    "Step 2: uithalen van belangrijke kustlijnvariabelen (x,y,time) (hoe 'berijk' ik de goeie variabelen op een slimme manier en kan ik het mat-file misschien ook weer verwijderen)\n",
    "Step 3: check plot van kustlijnvariabelen\n",
    "Step 4: access API for Sentinelhub (around area of interest determined by ShorelineS extent en simulation period)\n",
    "Step 5: check satellite images in simulation period die voldoen aan criteria (cloud coverage, location, ...)\n",
    "Step 6: plot kustlijn van ShorelineS over Satellite images met goeie resolutie\n",
    "Step 7: potentieel toevoegen van CoastSat om 'gemeten' kustlijn tegen de ShorelineS resultaten te plotten. Hier zou ook een verschilanalyse op basis van x en y kunnen gemaakt worden. (xarray)"
   ]
  },
  {
   "cell_type": "markdown",
   "metadata": {},
   "source": [
    "## Reactie Onno dag1\n",
    "\n",
    "Leuke toepassing! Ook zeer geschikt om in de cursus mee aan de slag te gaan. Nog wat opmerkingen :\n",
    "- Er bestaat een functie in de `scipy` package om mat bestanden in te laden (https://docs.scipy.org/doc/scipy/reference/generated/scipy.io.loadmat.html). \n",
    "- Je kan deze data vervolgens omzetten naar xarray DataArrays\n",
    "- Mogelijk is het handig om van de kustlijn een geometrisch Lijnobject te maken met een CRS (coordinate reference system) via de `geopandas` package. We kunnen hier even samen naar kijken als je de data hebt ingelezen.\n",
    "- De API van de SentinelHub heb ik nog niet eerder gebruikt. Klinkt als een hele handige toevoeging maar gaat mogelijk wel wat tijd kosten.\n",
    "- De CoastSat package ziet er interessant uit. Ga ik nog even naar kijken."
   ]
  },
  {
   "cell_type": "markdown",
   "metadata": {},
   "source": [
    "### 3. Code<a class=\"anchor\" id=\"cursusdag24\"></a>\n",
    "\n",
    "During the Python course you will write code for your application. You can write the code in this Jupyter Notebook or use another Python IDE to write your code."
   ]
  },
  {
   "cell_type": "code",
   "execution_count": null,
   "metadata": {},
   "outputs": [],
   "source": []
  },
  {
   "cell_type": "code",
   "execution_count": null,
   "metadata": {},
   "outputs": [],
   "source": []
  }
 ],
 "metadata": {
  "kernelspec": {
   "display_name": "Python [conda env:base] *",
   "language": "python",
   "name": "conda-base-py"
  },
  "language_info": {
   "codemirror_mode": {
    "name": "ipython",
    "version": 3
   },
   "file_extension": ".py",
   "mimetype": "text/x-python",
   "name": "python",
   "nbconvert_exporter": "python",
   "pygments_lexer": "ipython3",
   "version": "3.12.2"
  }
 },
 "nbformat": 4,
 "nbformat_minor": 4
}
